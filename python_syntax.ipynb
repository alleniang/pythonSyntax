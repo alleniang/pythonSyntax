{
 "cells": [
  {
   "cell_type": "markdown",
   "id": "25af57cb",
   "metadata": {},
   "source": [
    "# Question 1"
   ]
  },
  {
   "cell_type": "code",
   "execution_count": 2,
   "id": "a1f2f9a5",
   "metadata": {},
   "outputs": [
    {
     "name": "stdout",
     "output_type": "stream",
     "text": [
      "Saisir un nombre entier: 5\n",
      "615\n"
     ]
    }
   ],
   "source": [
    "n = int(input(\"Saisir un nombre entier: \"))\n",
    "nn = str(n)+str(n)\n",
    "nnn = str(n)+str(nn)\n",
    "resultat = int(n)+int(nn)+int(nnn)\n",
    "print(resultat)"
   ]
  },
  {
   "cell_type": "markdown",
   "id": "21341a7a",
   "metadata": {},
   "source": [
    "# Question 2"
   ]
  },
  {
   "cell_type": "code",
   "execution_count": 4,
   "id": "55e18681",
   "metadata": {},
   "outputs": [
    {
     "name": "stdout",
     "output_type": "stream",
     "text": [
      "Saisir un nombre: 98\n",
      "98 est pair\n"
     ]
    }
   ],
   "source": [
    "n = int(input(\"Saisir un nombre: \"))\n",
    "if n%2==0:\n",
    "    print(n,\"est pair\")\n",
    "elif n%2==1:\n",
    "    print(n,\"est impair\")"
   ]
  },
  {
   "cell_type": "markdown",
   "id": "cfe70fab",
   "metadata": {},
   "source": [
    "# Question 3"
   ]
  },
  {
   "cell_type": "code",
   "execution_count": 6,
   "id": "94ec7522",
   "metadata": {},
   "outputs": [
    {
     "name": "stdout",
     "output_type": "stream",
     "text": [
      " 2002 2009 2016 2023 2037 2044 2051 2058 2072 2079 2086 2093 2107 2114 2121 2128 2142 2149 2156 2163 2177 2184 2191 2198 2212 2219 2226 2233 2247 2254 2261 2268 2282 2289 2296 2303 2317 2324 2331 2338 2352 2359 2366 2373 2387 2394 2401 2408 2422 2429 2436 2443 2457 2464 2471 2478 2492 2499 2506 2513 2527 2534 2541 2548 2562 2569 2576 2583 2597 2604 2611 2618 2632 2639 2646 2653 2667 2674 2681 2688 2702 2709 2716 2723 2737 2744 2751 2758 2772 2779 2786 2793 2807 2814 2821 2828 2842 2849 2856 2863 2877 2884 2891 2898 2912 2919 2926 2933 2947 2954 2961 2968 2982 2989 2996 3003 3017 3024 3031 3038 3052 3059 3066 3073 3087 3094 3101 3108 3122 3129 3136 3143 3157 3164 3171 3178 3192 3199\n"
     ]
    }
   ],
   "source": [
    "resultat = \"\"\n",
    "for i in range(2000,3201):\n",
    "    if i%7==0 and i%5!=0:\n",
    "        resultat += \" \"+str(i)\n",
    "print(resultat)"
   ]
  },
  {
   "cell_type": "markdown",
   "id": "71b4c3e4",
   "metadata": {},
   "source": [
    "# Question 4"
   ]
  },
  {
   "cell_type": "code",
   "execution_count": 9,
   "id": "ab13b3c7",
   "metadata": {},
   "outputs": [
    {
     "name": "stdout",
     "output_type": "stream",
     "text": [
      "Saisir un nombre : \n",
      "None8\n",
      "8 != 8x7x6x5x4x3x2x1 = 40320\n"
     ]
    }
   ],
   "source": [
    "nombre = int(input(print(\"Saisir un nombre : \")))\n",
    "resultat = '' \n",
    "calcul = nombre \n",
    "if nombre == 0:\n",
    "    resultat = str(nombre) +\" != \"+str(1)\n",
    "    calcul = 1\n",
    "else:\n",
    "    resultat = str(nombre) +\" != \"+str(nombre)\n",
    "    for i in range(nombre-1, 0, -1): \n",
    "        resultat += \"x\" +str(i)\n",
    "    for i in range(nombre-1, 0, -1):\n",
    "        calcul *= i\n",
    "print(resultat,\"=\",calcul)"
   ]
  },
  {
   "cell_type": "markdown",
   "id": "a58bb02b",
   "metadata": {},
   "source": [
    "# Question 5"
   ]
  },
  {
   "cell_type": "code",
   "execution_count": 10,
   "id": "42aa8394",
   "metadata": {},
   "outputs": [
    {
     "name": "stdout",
     "output_type": "stream",
     "text": [
      "Saisir une chaine : \n",
      "Nonehello team\n",
      "hlota\n"
     ]
    }
   ],
   "source": [
    "chaine = input(print(\"Saisir une chaine : \"))\n",
    "newChaine = ''\n",
    "for i in range(len(chaine)):\n",
    "    if i%2 == 0:\n",
    "        newChaine += chaine[i]\n",
    "print(newChaine)"
   ]
  },
  {
   "cell_type": "code",
   "execution_count": null,
   "id": "fd4686ba",
   "metadata": {},
   "outputs": [],
   "source": []
  }
 ],
 "metadata": {
  "kernelspec": {
   "display_name": "Python 3 (ipykernel)",
   "language": "python",
   "name": "python3"
  },
  "language_info": {
   "codemirror_mode": {
    "name": "ipython",
    "version": 3
   },
   "file_extension": ".py",
   "mimetype": "text/x-python",
   "name": "python",
   "nbconvert_exporter": "python",
   "pygments_lexer": "ipython3",
   "version": "3.9.7"
  }
 },
 "nbformat": 4,
 "nbformat_minor": 5
}
